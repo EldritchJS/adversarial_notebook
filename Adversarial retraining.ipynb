{
 "cells": [
  {
   "cell_type": "code",
   "execution_count": 1,
   "metadata": {},
   "outputs": [
    {
     "name": "stderr",
     "output_type": "stream",
     "text": [
      "/home/jschlessman/.virtualenvs/tfgpu/lib/python3.6/site-packages/tensorflow/python/framework/dtypes.py:516: FutureWarning: Passing (type, 1) or '1type' as a synonym of type is deprecated; in a future version of numpy, it will be understood as (type, (1,)) / '(1,)type'.\n",
      "  _np_qint8 = np.dtype([(\"qint8\", np.int8, 1)])\n",
      "/home/jschlessman/.virtualenvs/tfgpu/lib/python3.6/site-packages/tensorflow/python/framework/dtypes.py:517: FutureWarning: Passing (type, 1) or '1type' as a synonym of type is deprecated; in a future version of numpy, it will be understood as (type, (1,)) / '(1,)type'.\n",
      "  _np_quint8 = np.dtype([(\"quint8\", np.uint8, 1)])\n",
      "/home/jschlessman/.virtualenvs/tfgpu/lib/python3.6/site-packages/tensorflow/python/framework/dtypes.py:518: FutureWarning: Passing (type, 1) or '1type' as a synonym of type is deprecated; in a future version of numpy, it will be understood as (type, (1,)) / '(1,)type'.\n",
      "  _np_qint16 = np.dtype([(\"qint16\", np.int16, 1)])\n",
      "/home/jschlessman/.virtualenvs/tfgpu/lib/python3.6/site-packages/tensorflow/python/framework/dtypes.py:519: FutureWarning: Passing (type, 1) or '1type' as a synonym of type is deprecated; in a future version of numpy, it will be understood as (type, (1,)) / '(1,)type'.\n",
      "  _np_quint16 = np.dtype([(\"quint16\", np.uint16, 1)])\n",
      "/home/jschlessman/.virtualenvs/tfgpu/lib/python3.6/site-packages/tensorflow/python/framework/dtypes.py:520: FutureWarning: Passing (type, 1) or '1type' as a synonym of type is deprecated; in a future version of numpy, it will be understood as (type, (1,)) / '(1,)type'.\n",
      "  _np_qint32 = np.dtype([(\"qint32\", np.int32, 1)])\n",
      "/home/jschlessman/.virtualenvs/tfgpu/lib/python3.6/site-packages/tensorflow/python/framework/dtypes.py:525: FutureWarning: Passing (type, 1) or '1type' as a synonym of type is deprecated; in a future version of numpy, it will be understood as (type, (1,)) / '(1,)type'.\n",
      "  np_resource = np.dtype([(\"resource\", np.ubyte, 1)])\n",
      "/home/jschlessman/.virtualenvs/tfgpu/lib/python3.6/site-packages/tensorboard/compat/tensorflow_stub/dtypes.py:541: FutureWarning: Passing (type, 1) or '1type' as a synonym of type is deprecated; in a future version of numpy, it will be understood as (type, (1,)) / '(1,)type'.\n",
      "  _np_qint8 = np.dtype([(\"qint8\", np.int8, 1)])\n",
      "/home/jschlessman/.virtualenvs/tfgpu/lib/python3.6/site-packages/tensorboard/compat/tensorflow_stub/dtypes.py:542: FutureWarning: Passing (type, 1) or '1type' as a synonym of type is deprecated; in a future version of numpy, it will be understood as (type, (1,)) / '(1,)type'.\n",
      "  _np_quint8 = np.dtype([(\"quint8\", np.uint8, 1)])\n",
      "/home/jschlessman/.virtualenvs/tfgpu/lib/python3.6/site-packages/tensorboard/compat/tensorflow_stub/dtypes.py:543: FutureWarning: Passing (type, 1) or '1type' as a synonym of type is deprecated; in a future version of numpy, it will be understood as (type, (1,)) / '(1,)type'.\n",
      "  _np_qint16 = np.dtype([(\"qint16\", np.int16, 1)])\n",
      "/home/jschlessman/.virtualenvs/tfgpu/lib/python3.6/site-packages/tensorboard/compat/tensorflow_stub/dtypes.py:544: FutureWarning: Passing (type, 1) or '1type' as a synonym of type is deprecated; in a future version of numpy, it will be understood as (type, (1,)) / '(1,)type'.\n",
      "  _np_quint16 = np.dtype([(\"quint16\", np.uint16, 1)])\n",
      "/home/jschlessman/.virtualenvs/tfgpu/lib/python3.6/site-packages/tensorboard/compat/tensorflow_stub/dtypes.py:545: FutureWarning: Passing (type, 1) or '1type' as a synonym of type is deprecated; in a future version of numpy, it will be understood as (type, (1,)) / '(1,)type'.\n",
      "  _np_qint32 = np.dtype([(\"qint32\", np.int32, 1)])\n",
      "/home/jschlessman/.virtualenvs/tfgpu/lib/python3.6/site-packages/tensorboard/compat/tensorflow_stub/dtypes.py:550: FutureWarning: Passing (type, 1) or '1type' as a synonym of type is deprecated; in a future version of numpy, it will be understood as (type, (1,)) / '(1,)type'.\n",
      "  np_resource = np.dtype([(\"resource\", np.ubyte, 1)])\n",
      "Using TensorFlow backend.\n"
     ]
    }
   ],
   "source": [
    "import tensorflow as tf\n",
    "from keras.callbacks import ModelCheckpoint\n",
    "import numpy as np\n",
    "import matplotlib.pyplot as plt\n",
    "import foolbox"
   ]
  },
  {
   "cell_type": "code",
   "execution_count": 2,
   "metadata": {},
   "outputs": [],
   "source": [
    "# Get the data via keras\n",
    "(x_train, y_train), (x_test, y_test) = tf.keras.datasets.fashion_mnist.load_data()\n",
    "\n",
    "\n",
    "# Normalize 8-bit values\n",
    "x_train = x_train.astype('float32') / 255\n",
    "x_test = x_test.astype('float32') / 255\n",
    "\n",
    "# Further break training data into train / validation sets (# put 5000 into validation set and keep remaining 55,000 for train)\n",
    "(x_train, x_valid) = x_train[5000:], x_train[:5000] \n",
    "(y_train, y_valid) = y_train[5000:], y_train[:5000]\n",
    "\n",
    "# Reshape input data from (28, 28) to (28, 28, 1) to make keras happy\n",
    "w, h = 28, 28\n",
    "x_train = x_train.reshape(x_train.shape[0], w, h, 1)\n",
    "x_valid = x_valid.reshape(x_valid.shape[0], w, h, 1)\n",
    "x_test = x_test.reshape(x_test.shape[0], w, h, 1)\n",
    "\n",
    "# hang onto the labels, as we'll need them when we add adversarial images to the training set\n",
    "y_train_class = y_train\n",
    "y_valid_class = y_valid\n",
    "y_test_class = y_test\n",
    "\n",
    "# One-hot encode the labels to make keras happy\n",
    "y_train = tf.keras.utils.to_categorical(y_train, 10)\n",
    "y_valid = tf.keras.utils.to_categorical(y_valid, 10)\n",
    "y_test = tf.keras.utils.to_categorical(y_test, 10)"
   ]
  },
  {
   "cell_type": "code",
   "execution_count": 3,
   "metadata": {},
   "outputs": [],
   "source": [
    "MAX_ADVERSARIES = 100\n",
    "ATTACK_CLASS = 2"
   ]
  },
  {
   "cell_type": "code",
   "execution_count": 4,
   "metadata": {},
   "outputs": [
    {
     "name": "stdout",
     "output_type": "stream",
     "text": [
      "WARNING:tensorflow:From /home/jschlessman/.virtualenvs/tfgpu/lib/python3.6/site-packages/tensorflow/python/ops/init_ops.py:97: calling GlorotUniform.__init__ (from tensorflow.python.ops.init_ops) with dtype is deprecated and will be removed in a future version.\n",
      "Instructions for updating:\n",
      "Call initializer instance with the dtype argument instead of passing it to the constructor\n",
      "WARNING:tensorflow:From /home/jschlessman/.virtualenvs/tfgpu/lib/python3.6/site-packages/tensorflow/python/ops/init_ops.py:1251: calling VarianceScaling.__init__ (from tensorflow.python.ops.init_ops) with dtype is deprecated and will be removed in a future version.\n",
      "Instructions for updating:\n",
      "Call initializer instance with the dtype argument instead of passing it to the constructor\n",
      "WARNING:tensorflow:From /home/jschlessman/.virtualenvs/tfgpu/lib/python3.6/site-packages/tensorflow/python/ops/init_ops.py:97: calling Zeros.__init__ (from tensorflow.python.ops.init_ops) with dtype is deprecated and will be removed in a future version.\n",
      "Instructions for updating:\n",
      "Call initializer instance with the dtype argument instead of passing it to the constructor\n",
      "WARNING:tensorflow:From /home/jschlessman/.virtualenvs/tfgpu/lib/python3.6/site-packages/foolbox/models/tensorflow.py:114: The name tf.keras.backend.get_session is deprecated. Please use tf.compat.v1.keras.backend.get_session instead.\n",
      "\n",
      "WARNING:tensorflow:From /home/jschlessman/.virtualenvs/tfgpu/lib/python3.6/site-packages/foolbox/models/tensorflow.py:115: The name tf.placeholder is deprecated. Please use tf.compat.v1.placeholder instead.\n",
      "\n",
      "WARNING:tensorflow:From /home/jschlessman/.virtualenvs/tfgpu/lib/python3.6/site-packages/foolbox/models/tensorflow.py:45: The name tf.get_default_session is deprecated. Please use tf.compat.v1.get_default_session instead.\n",
      "\n"
     ]
    }
   ],
   "source": [
    "# load the model arising from running https://github.com/margaretmz/deep-learning/blob/master/fashion_mnist_keras.ipynb\n",
    "kmodel = tf.keras.models.load_model('model.weights.best.hdf5')\n",
    "\n",
    "# create a foolbox-friendly model with its keras wrapper\n",
    "fmodel = foolbox.models.TensorFlowModel.from_keras(model = kmodel,bounds = (0.0, 1.0))"
   ]
  },
  {
   "cell_type": "code",
   "execution_count": 5,
   "metadata": {},
   "outputs": [
    {
     "name": "stderr",
     "output_type": "stream",
     "text": [
      "/home/jschlessman/.virtualenvs/tfgpu/lib/python3.6/site-packages/foolbox/attacks/base.py:133: UserWarning: Not running the attack because the original input is already misclassified and the adversarial thus has a distance of 0.\n",
      "  warnings.warn('Not running the attack because the original input'\n"
     ]
    }
   ],
   "source": [
    "# create an adversarial training set based on the original one\n",
    "x_train_adv = x_train\n",
    "y_train_adv = y_train\n",
    "x_test_adv = x_test\n",
    "y_test_adv = y_test\n",
    "\n",
    "\n",
    "# create a Foolbox attack \n",
    "attack_lbfgs = foolbox.attacks.LBFGSAttack(fmodel)\n",
    "adversarial_count = 0\n",
    "adversarial_indices = [] \n",
    "\n",
    "for i in range(0,len(x_train)):\n",
    "  if(y_train_class[i]==ATTACK_CLASS):\n",
    "    image = x_train[i]\n",
    "    adversarial = attack_lbfgs(image,label = y_train_class[i])\n",
    "    model_one_hot_pred = kmodel.predict(image.reshape(1,w,h,1))\n",
    "    model_pred = np.argmax(model_one_hot_pred)\n",
    "    adver_one_hot_pred = kmodel.predict(adversarial.reshape(1,w,h,1))\n",
    "    adver_pred = np.argmax(adver_one_hot_pred)\n",
    "    if(model_pred != adver_pred):\n",
    "        label_entry = np.zeros(10)\n",
    "        label_entry[model_pred] = 1\n",
    "        adversarial_indices.append(i)\n",
    "        x_train_adv=np.append(x_train_adv,[adversarial],axis=0)\n",
    "        y_train_adv=np.append(y_train_adv,[label_entry],axis=0)\n",
    "        adversarial_count += 1\n",
    "        if(adversarial_count == MAX_ADVERSARIES):\n",
    "            break"
   ]
  },
  {
   "cell_type": "code",
   "execution_count": 6,
   "metadata": {},
   "outputs": [
    {
     "name": "stdout",
     "output_type": "stream",
     "text": [
      "100.0\n"
     ]
    }
   ],
   "source": [
    "misclassified_count = 0\n",
    "\n",
    "for i in range(len(x_train),len(x_train_adv)):\n",
    "    image = x_train_adv[i]\n",
    "    model_one_hot_pred = kmodel.predict(image.reshape(1,w,h,1))\n",
    "    model_pred = np.argmax(model_one_hot_pred)\n",
    "    actual = np.argmax(y_train_adv[i])\n",
    "    if(model_pred != actual):\n",
    "        misclassified_count += 1\n",
    "        \n",
    "print(100*(misclassified_count/len(adversarial_indices)))\n",
    "\n"
   ]
  },
  {
   "cell_type": "code",
   "execution_count": 7,
   "metadata": {
    "scrolled": false
   },
   "outputs": [
    {
     "name": "stdout",
     "output_type": "stream",
     "text": [
      "Train on 55100 samples, validate on 5000 samples\n",
      "Epoch 1/10\n",
      "54592/55100 [============================>.] - ETA: 0s - loss: 0.2633 - acc: 0.9027\n",
      "Epoch 00001: val_loss improved from inf to 0.22848, saving model to adv.model.weights.best.hdf5\n",
      "55100/55100 [==============================] - 4s 73us/sample - loss: 0.2638 - acc: 0.9026 - val_loss: 0.2285 - val_acc: 0.9186\n",
      "Epoch 2/10\n",
      "54208/55100 [============================>.] - ETA: 0s - loss: 0.2563 - acc: 0.9046\n",
      "Epoch 00002: val_loss improved from 0.22848 to 0.22074, saving model to adv.model.weights.best.hdf5\n",
      "55100/55100 [==============================] - 4s 73us/sample - loss: 0.2564 - acc: 0.9046 - val_loss: 0.2207 - val_acc: 0.9166\n",
      "Epoch 3/10\n",
      "54912/55100 [============================>.] - ETA: 0s - loss: 0.2489 - acc: 0.9057\n",
      "Epoch 00003: val_loss did not improve from 0.22074\n",
      "55100/55100 [==============================] - 4s 70us/sample - loss: 0.2489 - acc: 0.9057 - val_loss: 0.2363 - val_acc: 0.9120\n",
      "Epoch 4/10\n",
      "54656/55100 [============================>.] - ETA: 0s - loss: 0.2497 - acc: 0.9077\n",
      "Epoch 00004: val_loss improved from 0.22074 to 0.21585, saving model to adv.model.weights.best.hdf5\n",
      "55100/55100 [==============================] - 4s 72us/sample - loss: 0.2491 - acc: 0.9079 - val_loss: 0.2158 - val_acc: 0.9178\n",
      "Epoch 5/10\n",
      "54592/55100 [============================>.] - ETA: 0s - loss: 0.2412 - acc: 0.9099\n",
      "Epoch 00005: val_loss did not improve from 0.21585\n",
      "55100/55100 [==============================] - 4s 72us/sample - loss: 0.2414 - acc: 0.9098 - val_loss: 0.2194 - val_acc: 0.9156\n",
      "Epoch 6/10\n",
      "54528/55100 [============================>.] - ETA: 0s - loss: 0.2383 - acc: 0.9106\n",
      "Epoch 00006: val_loss improved from 0.21585 to 0.21408, saving model to adv.model.weights.best.hdf5\n",
      "55100/55100 [==============================] - 4s 71us/sample - loss: 0.2381 - acc: 0.9108 - val_loss: 0.2141 - val_acc: 0.9194\n",
      "Epoch 7/10\n",
      "54464/55100 [============================>.] - ETA: 0s - loss: 0.2308 - acc: 0.9146\n",
      "Epoch 00007: val_loss improved from 0.21408 to 0.21267, saving model to adv.model.weights.best.hdf5\n",
      "55100/55100 [==============================] - 4s 77us/sample - loss: 0.2305 - acc: 0.9148 - val_loss: 0.2127 - val_acc: 0.9200\n",
      "Epoch 8/10\n",
      "55040/55100 [============================>.] - ETA: 0s - loss: 0.2289 - acc: 0.9145\n",
      "Epoch 00008: val_loss did not improve from 0.21267\n",
      "55100/55100 [==============================] - 4s 75us/sample - loss: 0.2288 - acc: 0.9145 - val_loss: 0.2140 - val_acc: 0.9174\n",
      "Epoch 9/10\n",
      "54912/55100 [============================>.] - ETA: 0s - loss: 0.2265 - acc: 0.9149\n",
      "Epoch 00009: val_loss improved from 0.21267 to 0.20768, saving model to adv.model.weights.best.hdf5\n",
      "55100/55100 [==============================] - 4s 71us/sample - loss: 0.2263 - acc: 0.9150 - val_loss: 0.2077 - val_acc: 0.9224\n",
      "Epoch 10/10\n",
      "54528/55100 [============================>.] - ETA: 0s - loss: 0.2231 - acc: 0.9167\n",
      "Epoch 00010: val_loss improved from 0.20768 to 0.20572, saving model to adv.model.weights.best.hdf5\n",
      "55100/55100 [==============================] - 4s 71us/sample - loss: 0.2229 - acc: 0.9167 - val_loss: 0.2057 - val_acc: 0.9252\n"
     ]
    },
    {
     "data": {
      "text/plain": [
       "<tensorflow.python.keras.callbacks.History at 0x7faf5dac6d30>"
      ]
     },
     "execution_count": 7,
     "metadata": {},
     "output_type": "execute_result"
    }
   ],
   "source": [
    "checkpointer = ModelCheckpoint(filepath='adv.model.weights.best.hdf5', verbose = 1, save_best_only=True)\n",
    "kmodel.fit(x_train_adv,\n",
    "         y_train_adv,\n",
    "         batch_size=64,\n",
    "         epochs=10,\n",
    "         validation_data=(x_valid, y_valid),\n",
    "         callbacks=[checkpointer])"
   ]
  },
  {
   "cell_type": "code",
   "execution_count": 8,
   "metadata": {},
   "outputs": [
    {
     "name": "stdout",
     "output_type": "stream",
     "text": [
      "4.0\n"
     ]
    }
   ],
   "source": [
    "misclassified_count = 0\n",
    "\n",
    "for i in range(len(x_train),len(x_train_adv)):\n",
    "    image = x_train_adv[i]\n",
    "    model_one_hot_pred = kmodel.predict(image.reshape(1,w,h,1))\n",
    "    model_pred = np.argmax(model_one_hot_pred)\n",
    "    actual = np.argmax(y_train_adv[i])\n",
    "    if(model_pred != actual):\n",
    "        misclassified_count += 1\n",
    "        \n",
    "print(100*(misclassified_count/len(adversarial_indices)))"
   ]
  },
  {
   "cell_type": "code",
   "execution_count": 10,
   "metadata": {},
   "outputs": [
    {
     "data": {
      "text/plain": [
       "100"
      ]
     },
     "execution_count": 10,
     "metadata": {},
     "output_type": "execute_result"
    }
   ],
   "source": []
  },
  {
   "cell_type": "code",
   "execution_count": null,
   "metadata": {},
   "outputs": [],
   "source": []
  }
 ],
 "metadata": {
  "kernelspec": {
   "display_name": "Python 3",
   "language": "python",
   "name": "python3"
  },
  "language_info": {
   "codemirror_mode": {
    "name": "ipython",
    "version": 3
   },
   "file_extension": ".py",
   "mimetype": "text/x-python",
   "name": "python",
   "nbconvert_exporter": "python",
   "pygments_lexer": "ipython3",
   "version": "3.6.8"
  }
 },
 "nbformat": 4,
 "nbformat_minor": 2
}
