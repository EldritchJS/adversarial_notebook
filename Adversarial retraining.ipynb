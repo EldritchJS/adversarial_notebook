{
 "cells": [
  {
   "cell_type": "code",
   "execution_count": 1,
   "metadata": {},
   "outputs": [
    {
     "name": "stderr",
     "output_type": "stream",
     "text": [
      "Using TensorFlow backend.\n"
     ]
    }
   ],
   "source": [
    "import tensorflow as tf\n",
    "from keras.callbacks import ModelCheckpoint\n",
    "import numpy as np\n",
    "import matplotlib.pyplot as plt\n",
    "import foolbox"
   ]
  },
  {
   "cell_type": "code",
   "execution_count": 2,
   "metadata": {},
   "outputs": [
    {
     "name": "stdout",
     "output_type": "stream",
     "text": [
      "Downloading data from https://storage.googleapis.com/tensorflow/tf-keras-datasets/train-labels-idx1-ubyte.gz\n",
      "32768/29515 [=================================] - 0s 0us/step\n",
      "Downloading data from https://storage.googleapis.com/tensorflow/tf-keras-datasets/train-images-idx3-ubyte.gz\n",
      "26427392/26421880 [==============================] - 1s 0us/step\n",
      "Downloading data from https://storage.googleapis.com/tensorflow/tf-keras-datasets/t10k-labels-idx1-ubyte.gz\n",
      "8192/5148 [===============================================] - 0s 0us/step\n",
      "Downloading data from https://storage.googleapis.com/tensorflow/tf-keras-datasets/t10k-images-idx3-ubyte.gz\n",
      "4423680/4422102 [==============================] - 0s 0us/step\n"
     ]
    }
   ],
   "source": [
    "# Get the data via keras\n",
    "(x_train, y_train), (x_test, y_test) = tf.keras.datasets.fashion_mnist.load_data()\n",
    "\n",
    "\n",
    "# Normalize 8-bit values\n",
    "x_train = x_train.astype('float32') / 255\n",
    "x_test = x_test.astype('float32') / 255\n",
    "\n",
    "# Further break training data into train / validation sets (# put 5000 into validation set and keep remaining 55,000 for train)\n",
    "(x_train, x_valid) = x_train[5000:], x_train[:5000] \n",
    "(y_train, y_valid) = y_train[5000:], y_train[:5000]\n",
    "\n",
    "# Reshape input data from (28, 28) to (28, 28, 1) to make keras happy\n",
    "w, h = 28, 28\n",
    "x_train = x_train.reshape(x_train.shape[0], w, h, 1)\n",
    "x_valid = x_valid.reshape(x_valid.shape[0], w, h, 1)\n",
    "x_test = x_test.reshape(x_test.shape[0], w, h, 1)\n",
    "\n",
    "# hang onto the labels, as we'll need them when we add adversarial images to the training set\n",
    "y_train_class = y_train\n",
    "y_valid_class = y_valid\n",
    "y_test_class = y_test\n",
    "\n",
    "# One-hot encode the labels to make keras happy\n",
    "y_train = tf.keras.utils.to_categorical(y_train, 10)\n",
    "y_valid = tf.keras.utils.to_categorical(y_valid, 10)\n",
    "y_test = tf.keras.utils.to_categorical(y_test, 10)"
   ]
  },
  {
   "cell_type": "code",
   "execution_count": 3,
   "metadata": {},
   "outputs": [],
   "source": [
    "MAX_ADVERSARIES = 100\n",
    "ATTACK_CLASS = 2"
   ]
  },
  {
   "cell_type": "code",
   "execution_count": 5,
   "metadata": {},
   "outputs": [],
   "source": [
    "# load the model arising from running https://github.com/margaretmz/deep-learning/blob/master/fashion_mnist_keras.ipynb\n",
    "kmodel = tf.keras.models.load_model('model.weights.best.hdf5')\n",
    "\n",
    "# create a foolbox-friendly model with its keras wrapper\n",
    "#fmodel = foolbox.models.TensorFlowModel.from_keras(model = kmodel,bounds = (0.0, 1.0))\n",
    "fmodel = foolbox.models.KerasModel(model = kmodel,bounds = (0.0, 1.0))"
   ]
  },
  {
   "cell_type": "code",
   "execution_count": 7,
   "metadata": {},
   "outputs": [
    {
     "name": "stderr",
     "output_type": "stream",
     "text": [
      "/home/jason/.venvs/tfgpu/lib/python3.6/site-packages/foolbox/v1/attacks/base.py:141: UserWarning: Not running the attack because the original input is already misclassified and the adversarial thus has a distance of 0.\n",
      "  \"Not running the attack because the original input\"\n"
     ]
    }
   ],
   "source": [
    "# create an adversarial training set based on the original one\n",
    "x_train_adv = x_train\n",
    "y_train_adv = y_train\n",
    "x_test_adv = x_test\n",
    "y_test_adv = y_test\n",
    "\n",
    "\n",
    "# create a Foolbox attack \n",
    "attack_lbfgs = foolbox.v1.attacks.LBFGSAttack(fmodel)\n",
    "adversarial_count = 0\n",
    "adversarial_indices = [] \n",
    "\n",
    "for i in range(0,len(x_train)):\n",
    "  if(y_train_class[i]==ATTACK_CLASS):\n",
    "    image = x_train[i]\n",
    "    adversarial = attack_lbfgs(image,label = y_train_class[i])\n",
    "    model_one_hot_pred = kmodel.predict(image.reshape(1,w,h,1))\n",
    "    model_pred = np.argmax(model_one_hot_pred)\n",
    "    adver_one_hot_pred = kmodel.predict(adversarial.reshape(1,w,h,1))\n",
    "    adver_pred = np.argmax(adver_one_hot_pred)\n",
    "    if(model_pred != adver_pred):\n",
    "        label_entry = np.zeros(10)\n",
    "        label_entry[model_pred] = 1\n",
    "        adversarial_indices.append(i)\n",
    "        x_train_adv=np.append(x_train_adv,[adversarial],axis=0)\n",
    "        y_train_adv=np.append(y_train_adv,[label_entry],axis=0)\n",
    "        adversarial_count += 1\n",
    "        if(adversarial_count == MAX_ADVERSARIES):\n",
    "            break"
   ]
  },
  {
   "cell_type": "code",
   "execution_count": 8,
   "metadata": {},
   "outputs": [
    {
     "name": "stdout",
     "output_type": "stream",
     "text": [
      "100.0\n"
     ]
    }
   ],
   "source": [
    "misclassified_count = 0\n",
    "\n",
    "for i in range(len(x_train),len(x_train_adv)):\n",
    "    image = x_train_adv[i]\n",
    "    model_one_hot_pred = kmodel.predict(image.reshape(1,w,h,1))\n",
    "    model_pred = np.argmax(model_one_hot_pred)\n",
    "    actual = np.argmax(y_train_adv[i])\n",
    "    if(model_pred != actual):\n",
    "        misclassified_count += 1\n",
    "        \n",
    "print(100*(misclassified_count/len(adversarial_indices)))\n",
    "\n"
   ]
  },
  {
   "cell_type": "code",
   "execution_count": 9,
   "metadata": {
    "scrolled": false
   },
   "outputs": [
    {
     "name": "stdout",
     "output_type": "stream",
     "text": [
      "Train on 55100 samples, validate on 5000 samples\n",
      "Epoch 1/10\n",
      "54976/55100 [============================>.] - ETA: 0s - loss: 0.2650 - accuracy: 0.9020\n",
      "Epoch 00001: val_loss improved from inf to 0.22619, saving model to adv.model.weights.best.hdf5\n",
      "55100/55100 [==============================] - 18s 323us/sample - loss: 0.2651 - accuracy: 0.9021 - val_loss: 0.2262 - val_accuracy: 0.9150\n",
      "Epoch 2/10\n",
      "54912/55100 [============================>.] - ETA: 0s - loss: 0.2561 - accuracy: 0.9044\n",
      "Epoch 00002: val_loss improved from 0.22619 to 0.22164, saving model to adv.model.weights.best.hdf5\n",
      "55100/55100 [==============================] - 18s 324us/sample - loss: 0.2560 - accuracy: 0.9044 - val_loss: 0.2216 - val_accuracy: 0.9200\n",
      "Epoch 3/10\n",
      "54976/55100 [============================>.] - ETA: 0s - loss: 0.2500 - accuracy: 0.9069\n",
      "Epoch 00003: val_loss improved from 0.22164 to 0.21721, saving model to adv.model.weights.best.hdf5\n",
      "55100/55100 [==============================] - 18s 323us/sample - loss: 0.2501 - accuracy: 0.9068 - val_loss: 0.2172 - val_accuracy: 0.9200\n",
      "Epoch 4/10\n",
      "54976/55100 [============================>.] - ETA: 0s - loss: 0.2461 - accuracy: 0.9095\n",
      "Epoch 00004: val_loss improved from 0.21721 to 0.21721, saving model to adv.model.weights.best.hdf5\n",
      "55100/55100 [==============================] - 20s 355us/sample - loss: 0.2459 - accuracy: 0.9096 - val_loss: 0.2172 - val_accuracy: 0.9168\n",
      "Epoch 5/10\n",
      "54912/55100 [============================>.] - ETA: 0s - loss: 0.2412 - accuracy: 0.9093\n",
      "Epoch 00005: val_loss did not improve from 0.21721\n",
      "55100/55100 [==============================] - 19s 338us/sample - loss: 0.2412 - accuracy: 0.9092 - val_loss: 0.2255 - val_accuracy: 0.9156\n",
      "Epoch 6/10\n",
      "54912/55100 [============================>.] - ETA: 0s - loss: 0.2378 - accuracy: 0.9117\n",
      "Epoch 00006: val_loss improved from 0.21721 to 0.21236, saving model to adv.model.weights.best.hdf5\n",
      "55100/55100 [==============================] - 19s 343us/sample - loss: 0.2377 - accuracy: 0.9118 - val_loss: 0.2124 - val_accuracy: 0.9206\n",
      "Epoch 7/10\n",
      "54976/55100 [============================>.] - ETA: 0s - loss: 0.2363 - accuracy: 0.9110\n",
      "Epoch 00007: val_loss did not improve from 0.21236\n",
      "55100/55100 [==============================] - 18s 332us/sample - loss: 0.2362 - accuracy: 0.9111 - val_loss: 0.2172 - val_accuracy: 0.9192\n",
      "Epoch 8/10\n",
      "54912/55100 [============================>.] - ETA: 0s - loss: 0.2307 - accuracy: 0.9136\n",
      "Epoch 00008: val_loss did not improve from 0.21236\n",
      "55100/55100 [==============================] - 18s 325us/sample - loss: 0.2304 - accuracy: 0.9137 - val_loss: 0.2133 - val_accuracy: 0.9174\n",
      "Epoch 9/10\n",
      "54976/55100 [============================>.] - ETA: 0s - loss: 0.2269 - accuracy: 0.9138\n",
      "Epoch 00009: val_loss did not improve from 0.21236\n",
      "55100/55100 [==============================] - 18s 326us/sample - loss: 0.2269 - accuracy: 0.9138 - val_loss: 0.2144 - val_accuracy: 0.9202\n",
      "Epoch 10/10\n",
      "54976/55100 [============================>.] - ETA: 0s - loss: 0.2251 - accuracy: 0.9159\n",
      "Epoch 00010: val_loss improved from 0.21236 to 0.21009, saving model to adv.model.weights.best.hdf5\n",
      "55100/55100 [==============================] - 18s 325us/sample - loss: 0.2251 - accuracy: 0.9158 - val_loss: 0.2101 - val_accuracy: 0.9234\n"
     ]
    },
    {
     "data": {
      "text/plain": [
       "<tensorflow.python.keras.callbacks.History at 0x7facf4685860>"
      ]
     },
     "execution_count": 9,
     "metadata": {},
     "output_type": "execute_result"
    }
   ],
   "source": [
    "checkpointer = ModelCheckpoint(filepath='adv.model.weights.best.hdf5', verbose = 1, save_best_only=True)\n",
    "kmodel.fit(x_train_adv,\n",
    "         y_train_adv,\n",
    "         batch_size=64,\n",
    "         epochs=10,\n",
    "         validation_data=(x_valid, y_valid),\n",
    "         callbacks=[checkpointer])"
   ]
  },
  {
   "cell_type": "code",
   "execution_count": 10,
   "metadata": {},
   "outputs": [
    {
     "name": "stdout",
     "output_type": "stream",
     "text": [
      "55.00000000000001\n"
     ]
    }
   ],
   "source": [
    "misclassified_count = 0\n",
    "\n",
    "for i in range(len(x_train),len(x_train_adv)):\n",
    "    image = x_train_adv[i]\n",
    "    model_one_hot_pred = kmodel.predict(image.reshape(1,w,h,1))\n",
    "    model_pred = np.argmax(model_one_hot_pred)\n",
    "    actual = np.argmax(y_train_adv[i])\n",
    "    if(model_pred != actual):\n",
    "        misclassified_count += 1\n",
    "        \n",
    "print(100*(misclassified_count/len(adversarial_indices)))"
   ]
  },
  {
   "cell_type": "code",
   "execution_count": null,
   "metadata": {},
   "outputs": [],
   "source": []
  },
  {
   "cell_type": "code",
   "execution_count": null,
   "metadata": {},
   "outputs": [],
   "source": []
  }
 ],
 "metadata": {
  "kernelspec": {
   "display_name": "Python 3",
   "language": "python",
   "name": "python3"
  },
  "language_info": {
   "codemirror_mode": {
    "name": "ipython",
    "version": 3
   },
   "file_extension": ".py",
   "mimetype": "text/x-python",
   "name": "python",
   "nbconvert_exporter": "python",
   "pygments_lexer": "ipython3",
   "version": "3.6.8"
  }
 },
 "nbformat": 4,
 "nbformat_minor": 2
}
